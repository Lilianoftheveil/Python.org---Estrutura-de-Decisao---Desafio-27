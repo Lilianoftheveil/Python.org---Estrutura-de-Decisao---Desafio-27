{
 "cells": [
  {
   "cell_type": "code",
   "execution_count": null,
   "id": "f704985c",
   "metadata": {},
   "outputs": [],
   "source": [
    "Python - Lista de Exercícios (Estrutura de Decisão) \n",
    "link: https://wiki.python.org.br/EstruturaDeDecisao"
   ]
  },
  {
   "cell_type": "markdown",
   "id": "0788cfd9",
   "metadata": {},
   "source": [
    "27) Uma fruteira está vendendo frutas com a seguinte tabela de preços:\n",
    "\n",
    "Até 5 Kg (Morango 2,50 (reais) por Kg / Maçã 1,80 (reais) por Kg)\n\n",
    "Acima de 5 Kg (Morango 2,20 (reais) por Kg / Maça 1,50 (reais) por Kg)\n",
    "\n",
    "Se o cliente comprar mais de 8 Kg em frutas ou o valor total da compra ultrapassar (reais) 25,00, \n",
    "receberá ainda um desconto de 10% sobre este total.\n",
    "\n",
    "Escreva um algoritmo para ler a quantidade (em Kg) de morangos e a quantidade (em Kg) de \n",
    "maças adquiridas e escreva o valor a ser pago pelo cliente."
   ]
  },
  {
   "cell_type": "code",
   "execution_count": null,
   "id": "6d7cf684",
   "metadata": {},
   "outputs": [],
   "source": [
    "Obs.: Visando desenvolver o programa de forma mais dinâmica e menos suscetível a erros, adicionei \n",
    "outras estruturas no corpo do código. De modo que apenas números sejam aceitos\n",
    "durante sua execução."
   ]
  },
  {
   "cell_type": "code",
   "execution_count": null,
   "id": "eb6d47b6",
   "metadata": {},
   "outputs": [],
   "source": [
    "while True:\n",
    "  x = input(\"Quantidade (em Kg) de Morangos: \")\n",
    "  y = input(\"Quantidade (em Kg) de Maças: \")\n",
    "  try:\n",
    "    float(x), float(y)\n",
    "    break\n",
    "  except:\n",
    "    print(\"Por favor, digite apenas números.\")\n",
    "    continue\n",
    "\n",
    "if float(x) <= 5:\n",
    "  t1 = float(x) * 2.50\n",
    "elif float(x) > 5:\n",
    "  t1 = float(x) * 2.20\n",
    "\n",
    "if float(y) <= 5:\n",
    "  t2 = float(y) * 1.80\n",
    "elif float(y) > 5:\n",
    "  t2 = float(y) * 1.50\n",
    "\n",
    "t3 = float(x) + float(y)\n",
    "t4 = t1 + t2\n",
    "\n",
    "if t3 > 8 or t4 > 25:\n",
    "  t5 = t4 - (t4 * 0.10)\n",
    "\n",
    "print(f\"\\nQuantidade (em Kg) de Morangos: {x}\")\n",
    "print(f\"Valor Total (Morangos): {round(t1, 2)}\\n\")\n",
    "print(f\"Quantidade (em Kg) de Maças: {y}\")\n",
    "print(f\"Valor Total (Maças): {round(t2, 2)}\\n\")\n",
    "print(f\"Valor Total (Geral): {round(t4, 2)}\")\n",
    "print(f\"Valor Total (Geral com Descontos): {round(t5, 2)}\")"
   ]
  }
 ],
 "metadata": {
  "kernelspec": {
   "display_name": "Python 3 (ipykernel)",
   "language": "python",
   "name": "python3"
  },
  "language_info": {
   "codemirror_mode": {
    "name": "ipython",
    "version": 3
   },
   "file_extension": ".py",
   "mimetype": "text/x-python",
   "name": "python",
   "nbconvert_exporter": "python",
   "pygments_lexer": "ipython3",
   "version": "3.8.10"
  }
 },
 "nbformat": 4,
 "nbformat_minor": 5
}
